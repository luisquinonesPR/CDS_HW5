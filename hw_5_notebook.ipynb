{
 "cells": [
  {
   "cell_type": "code",
   "execution_count": 1,
   "metadata": {},
   "outputs": [],
   "source": [
    "from cds_hw5_library.load.load_data import load_data\n",
    "from cds_hw5_library.split.split_data import split_data\n",
    "from cds_hw5_library.clean.missing import nan_destroyer, fill_nan\n",
    "from cds_hw5_library.features.features import dummies, binary\n",
    "from cds_hw5_library.trainpred.trainpred import train, pred\n",
    "from cds_hw5_library.score.score import score\n",
    "\n",
    "# a) read the data \n",
    "df = load_data('sample_diabetes_mellitus_data.csv')\n",
    "df = df.copy()\n",
    "\n",
    "# b) splitting data \n",
    "X_train, X_test, y_train, y_test = split_data(df)\n",
    "\n",
    "# c) getting rid of null values in gender, ethnicity and age\n",
    "\n",
    "X_train, y_train = nan_destroyer(X_train, y_train, ['gender','ethnicity', 'age'])\n",
    "X_test, y_test = nan_destroyer(X_test, y_test, ['gender','ethnicity', 'age'])\n",
    "\n",
    "# d) filling height and weight null values with the mean \n",
    "X_train = fill_nan(X_train, ['height', 'weight'])\n",
    "X_test = fill_nan(X_test, ['height', 'weight'])\n",
    "\n",
    "# e) get dummies for ethnicity \n",
    "X_train = dummies(X_train, ['ethnicity'])\n",
    "X_test = dummies(X_test, ['ethnicity'])\n",
    "\n",
    "\n",
    "# f) generate a binary variable for gender\n",
    "\n",
    "X_train['gender_binary'] = binary(X_train.gender)\n",
    "X_test['gender_binary'] = binary(X_test.gender)\n",
    "\n",
    "\n",
    "# g) train a model with the train data\n",
    "cols = ['age','height','weight','aids','cirrhosis','hepatic_failure','immunosuppression','leukemia','lymphoma','solid_tumor_with_metastasis']\n",
    "X_train, y_train = train(X_train[cols], y_train)\n",
    "\n",
    "\n",
    "# h) predict the targets for both the train and test sets and add the prediction as a new column\n",
    "X_test = X_test[cols]\n",
    "X_train , X_test, predictiontrain, predictiontest = pred(X_train, X_test)\n",
    "\n",
    "\n",
    "# i) compute the train and test roc_auc metric using roc_auc_score\n",
    "\n",
    "score_train, score_test = score(predictiontrain, y_train, predictiontest, y_test)\n",
    "\n",
    "\n"
   ]
  },
  {
   "cell_type": "code",
   "execution_count": 2,
   "metadata": {},
   "outputs": [
    {
     "data": {
      "text/plain": [
       "0.6673548257281934"
      ]
     },
     "execution_count": 2,
     "metadata": {},
     "output_type": "execute_result"
    }
   ],
   "source": [
    "score_train"
   ]
  },
  {
   "cell_type": "code",
   "execution_count": 3,
   "metadata": {},
   "outputs": [
    {
     "data": {
      "text/plain": [
       "0.678587693147211"
      ]
     },
     "execution_count": 3,
     "metadata": {},
     "output_type": "execute_result"
    }
   ],
   "source": [
    "score_test"
   ]
  }
 ],
 "metadata": {
  "kernelspec": {
   "display_name": "Python 3.9.13 ('hw5_env')",
   "language": "python",
   "name": "python3"
  },
  "language_info": {
   "codemirror_mode": {
    "name": "ipython",
    "version": 3
   },
   "file_extension": ".py",
   "mimetype": "text/x-python",
   "name": "python",
   "nbconvert_exporter": "python",
   "pygments_lexer": "ipython3",
   "version": "3.9.13"
  },
  "orig_nbformat": 4,
  "vscode": {
   "interpreter": {
    "hash": "d2ae1f450f60dc6d06dcc9aa92ad71579bd715831dace2cce4052002f769e0c8"
   }
  }
 },
 "nbformat": 4,
 "nbformat_minor": 2
}
